{
 "cells": [
  {
   "cell_type": "code",
   "execution_count": 4,
   "metadata": {},
   "outputs": [
    {
     "ename": "ModuleNotFoundError",
     "evalue": "No module named 'skimage'",
     "output_type": "error",
     "traceback": [
      "\u001b[1;31m---------------------------------------------------------------------------\u001b[0m",
      "\u001b[1;31mModuleNotFoundError\u001b[0m                       Traceback (most recent call last)",
      "Cell \u001b[1;32mIn[4], line 1\u001b[0m\n\u001b[1;32m----> 1\u001b[0m \u001b[38;5;28;01mfrom\u001b[39;00m \u001b[38;5;21;01mskimage\u001b[39;00m \u001b[38;5;28;01mimport\u001b[39;00m data, segmentation, color\n\u001b[0;32m      2\u001b[0m \u001b[38;5;28;01mfrom\u001b[39;00m \u001b[38;5;21;01mskimage\u001b[39;00m\u001b[38;5;21;01m.\u001b[39;00m\u001b[38;5;21;01mfuture\u001b[39;00m \u001b[38;5;28;01mimport\u001b[39;00m graph\n\u001b[0;32m      3\u001b[0m \u001b[38;5;28;01mfrom\u001b[39;00m \u001b[38;5;21;01mmatplotlib\u001b[39;00m \u001b[38;5;28;01mimport\u001b[39;00m pyplot \u001b[38;5;28;01mas\u001b[39;00m plt\n",
      "\u001b[1;31mModuleNotFoundError\u001b[0m: No module named 'skimage'"
     ]
    }
   ],
   "source": [
    "from skimage import data, segmentation, color\n",
    "from skimage.future import graph\n",
    "from matplotlib import pyplot as plt\n",
    "from PIL import Image\n",
    "from skimage import io\n",
    "\n",
    "path=r'C:\\Users\\alber\\OneDrive - INTEC\\LAB MACHINE LEARNING\\P2\\frutas (1).jpeg'\n",
    "img = io.imread(path)\n",
    "\n",
    "labels1 = segmentation.slic(img, compactness=50, n_segments=5000,\n",
    "                        start_label=1)\n",
    "out1 = color.label2rgb(labels1, img, kind='avg', bg_label=0)\n",
    "out1 = Image.fromarray(out1, 'RGB')\n",
    "out1.save(r'C:\\Users\\alber\\OneDrive - INTEC\\LAB MACHINE LEARNING\\P2\\frutas (1).jpeg')\n",
    "g = graph.rag_mean_color(img, labels1, mode='similarity')\n",
    "labels2 = graph.cut_normalized(labels1, g)\n",
    "out2 = color.label2rgb(labels2, img, kind='avg', bg_label=0)\n",
    "out2 = Image.fromarray(out2, 'RGB')\n",
    "out2.save(r'C:\\Users\\alber\\OneDrive - INTEC\\LAB MACHINE LEARNING\\P2\\frutas (1).jpeg')\n",
    "\n",
    "fig, ax = plt.subplots(nrows=2, sharex=True, sharey=True, figsize=(6, 8))\n",
    "\n",
    "ax[0].imshow(out1)\n",
    "ax[1].imshow(out2)\n",
    "\n",
    "for a in ax:\n",
    "    a.axis('off')\n",
    "\n",
    "plt.tight_layout()\n",
    "plt.show()"
   ]
  }
 ],
 "metadata": {
  "kernelspec": {
   "display_name": "Python 3",
   "language": "python",
   "name": "python3"
  },
  "language_info": {
   "codemirror_mode": {
    "name": "ipython",
    "version": 3
   },
   "file_extension": ".py",
   "mimetype": "text/x-python",
   "name": "python",
   "nbconvert_exporter": "python",
   "pygments_lexer": "ipython3",
   "version": "3.11.3"
  }
 },
 "nbformat": 4,
 "nbformat_minor": 2
}
