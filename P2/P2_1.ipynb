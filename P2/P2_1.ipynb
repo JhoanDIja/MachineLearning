{
 "cells": [
  {
   "cell_type": "markdown",
   "metadata": {},
   "source": [
    "# Seccion I - Objetivo: Predecir el Genero\n",
    "\n",
    "> Lleve a cabo el algoritmo k-NN (k=3) para la clasificacion de los datos del dataset de pruebas a partir de los datos del dataset de entrenamiento. Favor refererirse a la hora * \"Handwritten exercise\" * del archivo de Excel para encontrar los datos que utilizara.\n"
   ]
  },
  {
   "cell_type": "code",
   "execution_count": 5,
   "metadata": {},
   "outputs": [],
   "source": [
    "import pandas as pd\n",
    "import numpy as np\n",
    "from knn import KNN\n",
    "import matplotlib.pyplot as plt"
   ]
  },
  {
   "cell_type": "code",
   "execution_count": 6,
   "metadata": {},
   "outputs": [
    {
     "name": "stdout",
     "output_type": "stream",
     "text": [
      "  Train Set: Unnamed: 1 Unnamed: 2 Unnamed: 3 Unnamed: 4      Test Set:  \\\n",
      "0         id     gender     height     weight       alco  height_sample   \n",
      "1          0          2        168         62          0            163   \n",
      "2          1          1        156         85          0            175   \n",
      "3          2          1        165         64          0            184   \n",
      "4          3          2        169         82          0            NaN   \n",
      "\n",
      "      Unnamed: 8   Unnamed: 9 Unnamed: 10  \n",
      "0  weight_sample  alco_sample      gender  \n",
      "1             66            1           ?  \n",
      "2             76            0           ?  \n",
      "3            111            0           ?  \n",
      "4            NaN          NaN         NaN  \n"
     ]
    }
   ],
   "source": [
    "#IMPORTANDO DATOS\n",
    "\n",
    "PATH = '/home/albertdipre/Desktop/MachineLearning/P2/knn_dataset.xlsx'\n",
    "handwritten_exercise_data = pd.read_excel(PATH,sheet_name=\"Handwritten_exercise\",usecols=[0,1,2,3,4,7,8,9,10])\n",
    "print(handwritten_exercise_data.head())"
   ]
  },
  {
   "cell_type": "code",
   "execution_count": 7,
   "metadata": {},
   "outputs": [
    {
     "name": "stdout",
     "output_type": "stream",
     "text": [
      "(3, 15)\n"
     ]
    }
   ],
   "source": [
    "# Datos de entrenamiento\n",
    "train_data = np.array(handwritten_exercise_data)\n",
    "train_data1 = np.array(train_data[1:,2].reshape(15,1))\n",
    "train_data2 = np.array(train_data[1:,3].reshape(15,1))\n",
    "train_data3 = np.array(train_data[1:,4].reshape(15,1))\n",
    "train_data = np.concatenate((train_data1,train_data2,train_data3),axis = 1).transpose()\n",
    "print(train_data.shape)\n"
   ]
  },
  {
   "cell_type": "code",
   "execution_count": 8,
   "metadata": {},
   "outputs": [
    {
     "name": "stdout",
     "output_type": "stream",
     "text": [
      "[2 1 1 2 1 1 1 2 1 1 1 2 2 1 2]\n"
     ]
    }
   ],
   "source": [
    "# Clases de entrenamiento\n",
    "\n",
    "genero = np.array(handwritten_exercise_data)\n",
    "genero = genero[1:,1]\n",
    "genero = np.uint8(genero)\n",
    "print(genero)"
   ]
  },
  {
   "cell_type": "markdown",
   "metadata": {},
   "source": [
    "\n",
    "> Luego probar con un codigo propio el cual, dado un valor de k especificado por el usuario, implemente k-NN para claasificacion del dataset de entrenamiento(Hoja de Programing Exercise)"
   ]
  },
  {
   "cell_type": "code",
   "execution_count": 9,
   "metadata": {},
   "outputs": [
    {
     "name": "stdout",
     "output_type": "stream",
     "text": [
      "(3, 3)\n"
     ]
    }
   ],
   "source": [
    "nuevos_datos = np.array(handwritten_exercise_data)\n",
    "nuevos_datos = nuevos_datos[1:4,5:8]\n",
    "print(nuevos_datos.shape)"
   ]
  },
  {
   "cell_type": "code",
   "execution_count": 11,
   "metadata": {},
   "outputs": [
    {
     "name": "stderr",
     "output_type": "stream",
     "text": [
      "/tmp/ipykernel_17396/3533939686.py:15: UserWarning: Legend does not support handles for str instances.\n",
      "A proxy artist may be used instead.\n",
      "See: https://matplotlib.org/stable/users/explain/axes/legend_guide.html#controlling-the-legend-entries\n",
      "  plt.legend('hombres','mujeres')\n"
     ]
    },
    {
     "data": {
      "text/plain": [
       "<matplotlib.legend.Legend at 0x7186e5886260>"
      ]
     },
     "execution_count": 11,
     "metadata": {},
     "output_type": "execute_result"
    },
    {
     "data": {
      "image/png": "[encoded data removed]",
      "text/plain": [
       "<Figure size 640x480 with 1 Axes>"
      ]
     },
     "metadata": {},
     "output_type": "display_data"
    }
   ],
   "source": [
    "for i in range(train_data.shape[1]):\n",
    "    if genero[i]==1:\n",
    "        marcar = 'v'\n",
    "        color = 'red'\n",
    "    else:\n",
    "        marcar ='o'\n",
    "        color ='blue'\n",
    "    plt.scatter(x=train_data[0,i],y=train_data[1,i],c = color,s =100,marker = marcar)\n",
    "for j  in range(nuevos_datos.shape[1]):\n",
    "    plt.scatter(x=nuevos_datos[0,j],y=nuevos_datos[1,j],c = 'black',s =100,marker = 's')\n",
    "    \n",
    "plt.xlabel('Peso (kg)')\n",
    "plt.ylabel('Estatura (m)')\n",
    "plt.title('Clasificador KNN')\n",
    "plt.legend('hombres','mujeres')"
   ]
  },
  {
   "cell_type": "code",
   "execution_count": 12,
   "metadata": {},
   "outputs": [
    {
     "name": "stdout",
     "output_type": "stream",
     "text": [
      "generos [2, 1, 1]\n"
     ]
    }
   ],
   "source": [
    "clasificador =KNN(k=3)\n",
    "clasificador.aprendizaje(train_data,genero)\n",
    "clasificar = clasificador.clasificacion(nuevos_datos)\n",
    "print('generos', clasificar)"
   ]
  },
  {
   "cell_type": "markdown",
   "metadata": {},
   "source": [
    "# RESULTADOS\n",
    "> Se observa como la clasificacion es obtenida al hacer knearest neighbors para la clasificacion de nuevos datos a partir de datos aprendidos, dado que no tenemos una data la cual es el testeo de \"Y\" no podemos comparar con totalidad la validacion de nuestro modelo, sin embargo al comparar con los resultados del grupo se puede observar como a todos nos dio igual tanto en python como en matlab\n"
   ]
  }
 ],
 "metadata": {
  "kernelspec": {
   "display_name": "Python 3",
   "language": "python",
   "name": "python3"
  },
  "language_info": {
   "codemirror_mode": {
    "name": "ipython",
    "version": 3
   },
   "file_extension": ".py",
   "mimetype": "text/x-python",
   "name": "python",
   "nbconvert_exporter": "python",
   "pygments_lexer": "ipython3",
   "version": "3.10.12"
  }
 },
 "nbformat": 4,
 "nbformat_minor": 2
}
