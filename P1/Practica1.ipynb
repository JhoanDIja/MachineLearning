{
 "cells": [
  {
   "cell_type": "markdown",
   "metadata": {},
   "source": [
    "1) Realice las transformaciones lineales (a) $q= Qx$ y (b) $x = Q^{-1}q$ donde\n",
    "\n",
    "$$\n",
    "Q = \\begin{bmatrix} \n",
    "    5/6 & 1/6 & 0\\\\\n",
    "    5/6 & 0 & 1/6\\\\\n",
    "    0 & 5/6 & 1/6\n",
    "    \\end{bmatrix}\n",
    "x = \\begin{bmatrix}\n",
    "    56\\\\\n",
    "    14\\\\\n",
    "    0.005 \\end{bmatrix}\n",
    "$$"
   ]
  },
  {
   "cell_type": "code",
   "execution_count": 13,
   "metadata": {},
   "outputs": [
    {
     "data": {
      "text/plain": [
       "'\\n    Observacion: Da exactamente igual multiplicar la inversa de Q por q a la matrix x \\n    dado que solo se despejo la \"x\" de la operacion Qx =q\\n'"
      ]
     },
     "execution_count": 13,
     "metadata": {},
     "output_type": "execute_result"
    }
   ],
   "source": [
    "import numpy as np\n",
    "from fractions import Fraction\n",
    "fr1 = Fraction(5,6)\n",
    "fr2 = Fraction(1,6)\n",
    "Matrix = [[fr1,fr2,0],[fr1,0,fr2],[0,fr1,fr2]]\n",
    "Q = np.array(Matrix,dtype=float)\n",
    "\n",
    "X = np.array([[56],[14],[0.005]])\n",
    "\n",
    "#Realizando operacion a\n",
    "q = np.matmul(Q,X)\n",
    "q\n",
    "#Realizando operacion b\n",
    "x = np.matmul(np.linalg.inv(Q),q)\n",
    "x\n",
    "\"\"\"\n",
    "    Observacion: Da exactamente igual multiplicar la inversa de Q por q a la matrix x \n",
    "    dado que solo se despejo la \"x\" de la operacion Qx =q\n",
    "\"\"\"\n"
   ]
  },
  {
   "cell_type": "markdown",
   "metadata": {},
   "source": [
    "2) Importe los datos de un archivo .csv, .xls o .xlsx como una matrix a su plataforma preferida y despliegue las primeras 15 filas y 4 columnas"
   ]
  },
  {
   "cell_type": "code",
   "execution_count": 14,
   "metadata": {},
   "outputs": [
    {
     "name": "stdout",
     "output_type": "stream",
     "text": [
      "    2  4  2.1  5  4.1  4.2\n",
      "0   4  3    3  1    3    2\n",
      "1   3  4    2  3    2    5\n",
      "2   5  4    1  2    5    5\n",
      "3   3  1    3  4    5    2\n",
      "4   5  5    3  4    1    1\n",
      "5   3  3    4  3    3    1\n",
      "6   3  2    5  5    2    5\n",
      "7   2  1    4  4    4    1\n",
      "8   3  1    1  2    2    1\n",
      "9   1  5    4  3    1    4\n",
      "10  4  3    1  3    3    2\n",
      "11  2  1    4  5    5    2\n",
      "12  1  3    5  4    2    5\n",
      "13  4  3    5  5    3    1\n",
      "14  3  1    4  4    2    3\n",
      "15  1  4    3  1    2    4\n",
      "16  4  4    3  5    3    4\n",
      "17  1  5    3  5    5    3\n",
      "18  2  4    5  4    5    3\n",
      "19  4  1    3  3    4    5\n",
      "20  5  4    5  4    5    5\n",
      "21  5  5    4  2    3    5\n",
      "22  5  5    5  4    3    2\n",
      "23  3  1    1  1    5    4\n"
     ]
    },
    {
     "data": {
      "text/plain": [
       "array([[4, 3, 3, 1],\n",
       "       [3, 4, 2, 3],\n",
       "       [5, 4, 1, 2],\n",
       "       [3, 1, 3, 4],\n",
       "       [5, 5, 3, 4],\n",
       "       [3, 3, 4, 3],\n",
       "       [3, 2, 5, 5],\n",
       "       [2, 1, 4, 4],\n",
       "       [3, 1, 1, 2],\n",
       "       [1, 5, 4, 3],\n",
       "       [4, 3, 1, 3],\n",
       "       [2, 1, 4, 5],\n",
       "       [1, 3, 5, 4],\n",
       "       [4, 3, 5, 5],\n",
       "       [3, 1, 4, 4]])"
      ]
     },
     "execution_count": 14,
     "metadata": {},
     "output_type": "execute_result"
    }
   ],
   "source": [
    "import pandas as pd \n",
    "import numpy as np\n",
    "\n",
    "#IMPORTANDO DATOS DESDE EXCEL HASTA PYTHON\n",
    "\n",
    "#MICROSOFT\n",
    "# df = pd.read_excel(r\"C:\\Users\\alber\\OneDrive - INTEC\\LAB MACHINE LEARNING\\P1\\Excel P1.xlsx\")\n",
    "#LINUX\n",
    "df = pd.read_excel(r\"/home/albertdipre/Desktop/MachineLearning/P1/Excel P1.xlsx\")\n",
    "\n",
    "print(df)\n",
    "matriz = np.array(df)\n",
    "matriz[:15,[0,1,2,3]]"
   ]
  },
  {
   "cell_type": "markdown",
   "metadata": {},
   "source": [
    "3) Cree un  nuevo vector columna x = [x^1,x^2,x^3...] y copie alli el contenido de los ultimos 20 elementos de la tercera columna de la matriz creada en el paso anterior\n",
    "4) Cree un nuevo vector fila y = [y^1,y^2...], donde caada y^i ~ N(1.7,5) es un numero aleatorio segun la distribucion Gaussiana especificada."
   ]
  },
  {
   "cell_type": "code",
   "execution_count": 15,
   "metadata": {},
   "outputs": [
    {
     "name": "stdout",
     "output_type": "stream",
     "text": [
      "(20, 1)\n",
      "(20, 5)\n"
     ]
    }
   ],
   "source": [
    "import pandas as pd \n",
    "import numpy as np\n",
    "\n",
    "\n",
    "matriz = np.array(df)\n",
    "# print(matriz)\n",
    "x = matriz[-20:,2].reshape(20,1) # seleccionando la tercera columna los ultimos 20 valores\n",
    "print(x.shape)\n",
    "#Creando distribucion gaussiana\n",
    "y = np.random.normal(loc=1.7,scale=5,size=(1,5))\n",
    "\n",
    "\n",
    "#Generando la matriz A = xy\n",
    "\n",
    "A = np.matmul(x,y)\n",
    "A = np.array(A)\n",
    "print(A.shape)\n",
    "a = A.reshape(100,1)"
   ]
  },
  {
   "cell_type": "markdown",
   "metadata": {},
   "source": [
    "# II. VECTORIZANDO OPERACIONES.\n",
    "1) Compute la suma de los elementos de cada columna de la matriz A.\n",
    "2) Compute el promedio de lo elementos de cada columna de la matriz A. \n",
    "3) Compute la varianza de los elementos de cada columna de la matriz A,\n",
    "4) Compute el vector media *a* a parir de los vectores fila de la matriz A.\n",
    "5) Compute la distancia euclideana entre *a* y cada vector fila de la matriz A\n",
    "6) Vectorice e implemente las siguientes combinaciones lineales. Asuma los valores de su preferencia $a_i, a_{ij}$ y los descriptores $x_i$\n",
    "### A) \n",
    "$$\n",
    "    z=a^{1} + \\sum_{i=2}^{5} a^{i}x^{i} = a^{1}+a^{2}x^{2}+a^{3}x^{3}+...+a^{5}x^{5}\n",
    "$$\n",
    "### B) \n",
    "$$\n",
    "z^{j}=a^{j1}+ \\sum_{i=2}^{5} a^{ji}x^{i},j=1,2,3.\n",
    "$$"
   ]
  },
  {
   "cell_type": "code",
   "execution_count": 16,
   "metadata": {},
   "outputs": [
    {
     "name": "stdout",
     "output_type": "stream",
     "text": [
      "(20, 1)\n",
      "Combinancion lineal inciso 6, z = \n",
      " 94.0\n"
     ]
    },
    {
     "ename": "ValueError",
     "evalue": "operands could not be broadcast together with shapes (0,) (11,) ",
     "output_type": "error",
     "traceback": [
      "\u001b[0;31m---------------------------------------------------------------------------\u001b[0m",
      "\u001b[0;31mValueError\u001b[0m                                Traceback (most recent call last)",
      "Cell \u001b[0;32mIn[16], line 42\u001b[0m\n\u001b[1;32m     39\u001b[0m \u001b[38;5;28mprint\u001b[39m(\u001b[38;5;124m\"\u001b[39m\u001b[38;5;124mCombinancion lineal inciso 6, z = \u001b[39m\u001b[38;5;130;01m\\n\u001b[39;00m\u001b[38;5;124m\"\u001b[39m,z)\n\u001b[1;32m     41\u001b[0m \u001b[38;5;28;01mfor\u001b[39;00m j \u001b[38;5;129;01min\u001b[39;00m \u001b[38;5;28mrange\u001b[39m(\u001b[38;5;241m3\u001b[39m):\n\u001b[0;32m---> 42\u001b[0m     z[j] \u001b[38;5;241m=\u001b[39m a[j, \u001b[38;5;241m0\u001b[39m] \u001b[38;5;241m+\u001b[39m np\u001b[38;5;241m.\u001b[39msum(\u001b[43ma\u001b[49m\u001b[43m[\u001b[49m\u001b[43mj\u001b[49m\u001b[43m,\u001b[49m\u001b[43m \u001b[49m\u001b[38;5;241;43m1\u001b[39;49m\u001b[43m:\u001b[49m\u001b[43m]\u001b[49m\u001b[43m \u001b[49m\u001b[38;5;241;43m*\u001b[39;49m\u001b[43m \u001b[49m\u001b[43mx\u001b[49m\u001b[43m[\u001b[49m\u001b[38;5;241;43m1\u001b[39;49m\u001b[43m:\u001b[49m\u001b[43m]\u001b[49m)\n\u001b[1;32m     44\u001b[0m \u001b[38;5;28mprint\u001b[39m(z)\n",
      "\u001b[0;31mValueError\u001b[0m: operands could not be broadcast together with shapes (0,) (11,) "
     ]
    }
   ],
   "source": [
    "import pandas as pd \n",
    "import numpy as np\n",
    "\n",
    "\n",
    "matriz = np.array(df)\n",
    "# print(matriz)\n",
    "x = matriz[-20:,2].reshape(20,1) # seleccionando la tercera columna los ultimos 20 valores\n",
    "print(x.shape)\n",
    "#Creando distribucion gaussiana\n",
    "y = np.random.normal(loc=1.7,scale=5,size=(1,5))\n",
    "\n",
    "\n",
    "#Generando la matriz A = xy\n",
    "\n",
    "A = np.matmul(x,y)\n",
    "A = np.array(A)\n",
    "a = A.reshape(100,1)\n",
    "\n",
    "#Vectorizando las matrices\n",
    "sumColumnas = np.sum(A, axis=1) #suma de columnas\n",
    "meanColumnas = np.mean(A,axis=1) # promedio de cada columna\n",
    "varianzaColumnas = np.var(A,axis=1) #Varianza de cada columna\n",
    "\n",
    "meanFilas = np.mean(A,axis=0)\n",
    "meanFilas.shape\n",
    "\n",
    "distanciaEuclideana = np.linalg.norm(meanFilas - A, axis = 0)\n",
    "distanciaEuclideana.shape\n",
    "\n",
    "z=[];\n",
    "\n",
    "M = np.array([[1,2,3],[4,5,6],[7,8,9]]).reshape(9,1)\n",
    "x=np.linspace(1,12,12)\n",
    "for i in range(2,6):\n",
    "    Suma = M[1] + (np.dot(M[i],x[i]))\n",
    "    z.append(Suma)\n",
    "z = np.array(z)\n",
    "z = np.sum(z)\n",
    "print(\"Combinancion lineal inciso 6, z = \\n\",z)\n",
    "\n",
    "\n",
    "# for j in range(3):\n",
    "#     z[j] = a[j, 0] + np.sum(a[j, 1:] * x[1:])\n",
    "\n",
    "# print(z)\n",
    "\n",
    "\n"
   ]
  },
  {
   "cell_type": "markdown",
   "metadata": {},
   "source": [
    "# III. Otras operaciones utiles\n",
    "1) Aplique una funcion de slicing para extraer una matriz C de tamaño 4x4 a partir de las primeras 4 filas y 4 columnas de la matriz A. \n",
    "2) Compute la matriz de eigenvalues $\\lambda$ y la matriz de eigenvectors V de la matriz de la matriz C. Regenere a $C = V \\lambda V^{-1}$.\n",
    "3) Lleve a cabo la operacion de singular value descomposition sobre las matrices A y C. Regenere las matrices A y C utilizando las matrices resultante de la composicion"
   ]
  },
  {
   "cell_type": "code",
   "execution_count": null,
   "metadata": {},
   "outputs": [
    {
     "name": "stdout",
     "output_type": "stream",
     "text": [
      "(20, 5)\n",
      "U (4, 4) s (4,) VT (4, 4)\n",
      "[[-17.17999803  -0.57950786  19.20653075 -21.69233023]\n",
      " [-22.90666403  -0.77267714  25.60870766 -28.92310697]\n",
      " [-28.63333004  -0.96584643  32.01088458 -36.15388371]\n",
      " [-22.90666403  -0.77267714  25.60870766 -28.92310697]]\n",
      "[[-17.17999803  -0.57950786  19.20653075 -21.69233023]\n",
      " [-22.90666403  -0.77267714  25.60870766 -28.92310697]\n",
      " [-28.63333004  -0.96584643  32.01088458 -36.15388371]\n",
      " [-22.90666403  -0.77267714  25.60870766 -28.92310697]]\n",
      "True\n",
      "True\n"
     ]
    }
   ],
   "source": [
    "import pandas as pd\n",
    "import numpy as np\n",
    "from scipy.linalg import svd\n",
    "df = pd.read_excel(r\"C:\\Users\\alber\\OneDrive - INTEC\\LAB MACHINE LEARNING\\P1\\Excel P1.xlsx\")\n",
    "matriz = np.array(df)\n",
    "# print(matriz)\n",
    "x = matriz[-20:,2].reshape(20,1) # seleccionando la tercera columna los ultimos 20 valores\n",
    "# print(x.shape)\n",
    "#Creando distribucion gaussiana\n",
    "y = np.random.normal(loc=1.7,scale=5,size=(1,5))\n",
    "\n",
    "\n",
    "#Generando la matriz A = xy\n",
    "\n",
    "A = np.matmul(x,y)\n",
    "A = np.array(A)\n",
    "print(A.shape)\n",
    "#Slicing a 4x4 matrix from A\n",
    "C = A[:4,:4]\n",
    "C.shape\n",
    "\n",
    "eigenvalues, eigenvectors = np.linalg.eig(C)\n",
    "\n",
    "#print(eigenvalues.shape)\n",
    "#print(eigenvectors.shape)\n",
    "\n",
    "u = eigenvectors[:,1]\n",
    "#print(u,\"\\n\")\n",
    "lam = eigenvalues[1]\n",
    "\n",
    "#print(lam)\n",
    "#print(\"\\n\",np.dot(C,u))\n",
    "\n",
    "#print(\"\\n\", lam*u)\n",
    "\n",
    "C = eigenvectors @ eigenvalues @ np.linalg.inv(eigenvectors)\n",
    "#print(C.reshape(1,4))\n",
    "\n",
    "C = A[:4,:4]\n",
    "U_C, s_C, VT_C = svd(C)\n",
    "U_A,s_A,VT_A = svd(A)\n",
    "\n",
    "Sigma_A =np.zeros((A.shape[0],A.shape[1]))\n",
    "# Sigma_C =np.zeros((A.shape[0],A.shape[1]))\n",
    "Sigma_A[:A.shape[1], :A.shape[1]] = np.diag(s_A)\n",
    "# print(\"mmm\",Sigma_A.shape)\n",
    "# Sigma_C[:C.shape[1], :C.shape[1]] = np.diag(s_C)\n",
    "\n",
    "Sigma_C = np.diag(s_C)\n",
    "\n",
    "\n",
    "#reconstruyendo matriz\n",
    "\n",
    "reconstructionA = U_A @ Sigma_A @ VT_A\n",
    "reconstructionC= U_C @ Sigma_C @ VT_C\n",
    "print(\"U\",U_C.shape,\"s\",s_C.shape, \"VT\", VT_C.shape)\n",
    "print(C)\n",
    "print(reconstructionC)\n",
    "\n",
    "print(np.allclose(A,reconstructionA))\n",
    "\n",
    "print(np.allclose(C,reconstructionC))\n"
   ]
  }
 ],
 "metadata": {
  "kernelspec": {
   "display_name": "Python 3",
   "language": "python",
   "name": "python3"
  },
  "language_info": {
   "codemirror_mode": {
    "name": "ipython",
    "version": 3
   },
   "file_extension": ".py",
   "mimetype": "text/x-python",
   "name": "python",
   "nbconvert_exporter": "python",
   "pygments_lexer": "ipython3",
   "version": "3.10.12"
  }
 },
 "nbformat": 4,
 "nbformat_minor": 2
}
